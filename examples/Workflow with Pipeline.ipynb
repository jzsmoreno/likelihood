{
 "cells": [
  {
   "cell_type": "code",
   "execution_count": 1,
   "id": "6468522a",
   "metadata": {},
   "outputs": [
    {
     "name": "stdout",
     "output_type": "stream",
     "text": [
      "WARNING:tensorflow:From d:\\envs\\base\\Lib\\site-packages\\keras\\src\\losses.py:2976: The name tf.losses.sparse_softmax_cross_entropy is deprecated. Please use tf.compat.v1.losses.sparse_softmax_cross_entropy instead.\n",
      "\n"
     ]
    }
   ],
   "source": [
    "import sys\n",
    "\n",
    "# Añade el directorio principal al path de búsqueda para importar módulos desde esa ubicación\n",
    "sys.path.insert(0, \"..\")\n",
    "\n",
    "import pandas as pd\n",
    "from likelihood import Pipeline\n",
    "\n",
    "# Load raw data (replace with your actual data loading)\n",
    "data = {\n",
    "    \"Name\": [\"John\", \"Alice\", \"Bob\", \"Diana\", \"Ethan\"],\n",
    "    \"Age\": [25, 30, 22, 28, 35],\n",
    "    \"Income\": [50000, 60000, 45000, 52000, 75000],\n",
    "    \"CreditScore\": [680.0, 720.0, 650.0, 700.0, 750.0],\n",
    "    \"Target\": [1, 0, 1, 0, 1],\n",
    "    \"DebtRatio\": [0.25, 0.18, 0.35, 0.22, 0.15],\n",
    "}\n",
    "\n",
    "df = pd.DataFrame(data)\n",
    "\n",
    "# Load pipeline config and process data\n",
    "config_path = \"pipeline_config.json\"\n",
    "pipeline = Pipeline(config_path)"
   ]
  },
  {
   "cell_type": "code",
   "execution_count": 2,
   "id": "bc189258",
   "metadata": {},
   "outputs": [
    {
     "name": "stdout",
     "output_type": "stream",
     "text": [
      "Cleaned Features (X_train):\n",
      "   Name  CreditScore     DebtRatio Age_range  45000-74999  75000-104999\n",
      "0   0.0         -0.4  2.220446e-16     22-31          1.0           0.0\n",
      "1   0.5          0.4 -7.000000e-01     22-31          1.0           0.0\n",
      "2   1.0         -1.0  1.000000e+00     22-31          1.0           0.0\n",
      "3   1.5          0.0 -3.000000e-01     22-31          1.0           0.0\n",
      "4   2.0          1.0 -1.000000e+00     32-41          0.0           1.0\n",
      "\n",
      "Target Vector (y_train): [1 0 1 0 1]\n",
      "\n",
      "Feature Importances:        Name  CreditScore  DebtRatio  45000-74999  75000-104999\n",
      "0  0.070175     0.263158   0.087719     0.078947           0.5\n",
      "Configuration detected\n",
      "\n",
      "Transformed New Data:\n",
      "   Name  CreditScore  DebtRatio Age_range  45000-74999  75000-104999\n",
      "0   1.0          0.0       -0.7     32-41          0.0           1.0\n",
      "1   0.5         -0.4       -0.3     22-31          1.0           0.0\n",
      "2   0.0          0.2       -1.0       NaN          0.0           1.0\n"
     ]
    }
   ],
   "source": [
    "# Fit the pipeline on training data\n",
    "X_train, y_train, importances = pipeline.fit(df)\n",
    "print(\"Cleaned Features (X_train):\")\n",
    "print(X_train.head())\n",
    "print(\"\\nTarget Vector (y_train):\", y_train)\n",
    "if importances is not None:\n",
    "    print(\"\\nFeature Importances:\", importances)\n",
    "\n",
    "# Transform new data (e.g., validation/test set)\n",
    "new_data = pd.DataFrame(\n",
    "    {\n",
    "        \"Name\": [\"Bob\", \"Alice\", \"John\"],\n",
    "        \"Age\": [35, 28, 42],\n",
    "        \"Income\": [75000, 64000, 82000],\n",
    "        \"CreditScore\": [700.0, 680.0, 710.0],\n",
    "        \"DebtRatio\": [0.18, 0.22, 0.15],\n",
    "    }\n",
    ")\n",
    "X_new = pipeline.transform(new_data)\n",
    "print(\"\\nTransformed New Data:\")\n",
    "print(X_new.head())"
   ]
  },
  {
   "cell_type": "code",
   "execution_count": null,
   "id": "01ecfec2",
   "metadata": {},
   "outputs": [],
   "source": []
  }
 ],
 "metadata": {
  "kernelspec": {
   "display_name": "base",
   "language": "python",
   "name": "python3"
  },
  "language_info": {
   "codemirror_mode": {
    "name": "ipython",
    "version": 3
   },
   "file_extension": ".py",
   "mimetype": "text/x-python",
   "name": "python",
   "nbconvert_exporter": "python",
   "pygments_lexer": "ipython3",
   "version": "3.11.9"
  }
 },
 "nbformat": 4,
 "nbformat_minor": 5
}
