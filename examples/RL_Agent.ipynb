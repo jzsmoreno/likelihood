{
 "cells": [
  {
   "cell_type": "code",
   "execution_count": 1,
   "id": "08dd8307",
   "metadata": {},
   "outputs": [
    {
     "name": "stderr",
     "output_type": "stream",
     "text": [
      "2025-08-15 18:16:26.517420: I external/local_xla/xla/tsl/cuda/cudart_stub.cc:32] Could not find cuda drivers on your machine, GPU will not be used.\n",
      "2025-08-15 18:16:26.521019: I external/local_xla/xla/tsl/cuda/cudart_stub.cc:32] Could not find cuda drivers on your machine, GPU will not be used.\n",
      "2025-08-15 18:16:26.530203: E external/local_xla/xla/stream_executor/cuda/cuda_fft.cc:467] Unable to register cuFFT factory: Attempting to register factory for plugin cuFFT when one has already been registered\n",
      "WARNING: All log messages before absl::InitializeLog() is called are written to STDERR\n",
      "E0000 00:00:1755281786.544783  351270 cuda_dnn.cc:8579] Unable to register cuDNN factory: Attempting to register factory for plugin cuDNN when one has already been registered\n",
      "E0000 00:00:1755281786.550606  351270 cuda_blas.cc:1407] Unable to register cuBLAS factory: Attempting to register factory for plugin cuBLAS when one has already been registered\n",
      "W0000 00:00:1755281786.563170  351270 computation_placer.cc:177] computation placer already registered. Please check linkage and avoid linking the same target more than once.\n",
      "W0000 00:00:1755281786.563182  351270 computation_placer.cc:177] computation placer already registered. Please check linkage and avoid linking the same target more than once.\n",
      "W0000 00:00:1755281786.563184  351270 computation_placer.cc:177] computation placer already registered. Please check linkage and avoid linking the same target more than once.\n",
      "W0000 00:00:1755281786.563186  351270 computation_placer.cc:177] computation placer already registered. Please check linkage and avoid linking the same target more than once.\n",
      "2025-08-15 18:16:26.567780: I tensorflow/core/platform/cpu_feature_guard.cc:210] This TensorFlow binary is optimized to use available CPU instructions in performance-critical operations.\n",
      "To enable the following instructions: AVX2 FMA, in other operations, rebuild TensorFlow with the appropriate compiler flags.\n"
     ]
    }
   ],
   "source": [
    "%%capture\n",
    "import sys\n",
    "\n",
    "# Añade el directorio principal al path de búsqueda para importar módulos desde esa ubicación\n",
    "sys.path.insert(0, \"..\")\n",
    "\n",
    "import numpy as np\n",
    "import pandas as pd\n",
    "import tensorflow as tf\n",
    "from packaging import version\n",
    "from sklearn import datasets\n",
    "from sklearn.model_selection import train_test_split\n",
    "\n",
    "from likelihood.models.deep import AutoClassifier, AutoQL, Env\n",
    "from likelihood.tools import OneHotEncoder, get_metrics\n",
    "\n",
    "if version.parse(tf.__version__) > version.parse(\"2.15.0\"):\n",
    "    is_updated = True"
   ]
  },
  {
   "cell_type": "code",
   "execution_count": 2,
   "id": "e048d07d",
   "metadata": {},
   "outputs": [
    {
     "name": "stdout",
     "output_type": "stream",
     "text": [
      "Predictions before reinforcement learning:\n",
      "\u001b[1m 1/18\u001b[0m \u001b[32m━\u001b[0m\u001b[37m━━━━━━━━━━━━━━━━━━━\u001b[0m \u001b[1m1s\u001b[0m 67ms/step"
     ]
    },
    {
     "name": "stderr",
     "output_type": "stream",
     "text": [
      "2025-08-15 18:16:29.579829: E external/local_xla/xla/stream_executor/cuda/cuda_platform.cc:51] failed call to cuInit: INTERNAL: CUDA error: Failed call to cuInit: UNKNOWN ERROR (303)\n"
     ]
    },
    {
     "name": "stdout",
     "output_type": "stream",
     "text": [
      "\u001b[1m18/18\u001b[0m \u001b[32m━━━━━━━━━━━━━━━━━━━━\u001b[0m\u001b[37m\u001b[0m \u001b[1m0s\u001b[0m 3ms/step \n",
      "Accuracy: 37.26%\n",
      "Precision: 0.00%\n",
      "Recall: 0.00%\n",
      "F1-Score: 0.00\n",
      "Cohen's Kappa: 0.0000\n",
      "Reinforcement training:\n",
      "Episode: 0, Steps: 200, Epsilon: 1.000, Loss: 5.50e-06, Reward: 103, No Improve Count: 0\n",
      "Episode: 5, Steps: 200, Epsilon: 0.875, Loss: 2.85e-06, Reward: 189, No Improve Count: 4\n",
      "Episode: 10, Steps: 200, Epsilon: 0.750, Loss: 1.48e-06, Reward: 184, No Improve Count: 9\n",
      "Early stopping at episode 11 due to no improvement in 10 episodes.\n"
     ]
    }
   ],
   "source": [
    "# Cargar el dataset de cáncer de mama desde sklearn\n",
    "df = datasets.load_breast_cancer()\n",
    "\n",
    "# Convertir los datos a un DataFrame de pandas para facilitar la manipulación\n",
    "df_cancer = pd.DataFrame(data=df.data, columns=df.feature_names)\n",
    "df_cancer[\"target\"] = df.target  # Añadir la columna de etiquetas 'target'\n",
    "y = df_cancer[\"target\"].to_list()\n",
    "\n",
    "# OneHotEncoder convierte las etiquetas a formato one-hot encoding\n",
    "encoder = OneHotEncoder()\n",
    "y_enc = encoder.encode(y)  # Codificar las etiquetas de la clase (target)\n",
    "\n",
    "X = df_cancer.drop(\n",
    "    columns=\"target\"\n",
    ").to_numpy()  # Extraer las características (sin la columna 'target')\n",
    "X = np.asarray(X).astype(np.float32)  # Convertir X a tipo float32 para la entrada del modelo\n",
    "y = np.asarray(y).astype(np.float32)  # Convertir y a tipo float32\n",
    "\n",
    "# Dividir los datos en conjuntos de entrenamiento y prueba\n",
    "X_train, X_test, y_train, y_test = train_test_split(X, y, test_size=0.2, random_state=42)\n",
    "\n",
    "model = AutoClassifier(\n",
    "    input_shape_parm=X.shape[1],  # El número de características de entrada (columnas de X)\n",
    "    num_classes=y_enc.shape[1],  # El número de clases (salidas) del modelo\n",
    "    units=17,  # Número de unidades en las capas ocultas\n",
    "    activation=\"selu\",  # Función de activación de las capas ocultas\n",
    "    l2_reg=0.0,\n",
    ")\n",
    "\n",
    "if is_updated:\n",
    "    model = model._main_model\n",
    "\n",
    "print(\"Predictions before reinforcement learning:\")\n",
    "pred = model.predict(X)\n",
    "\n",
    "# Obtener las etiquetas predichas para las nuevas predicciones\n",
    "pred_label = np.argmax(pred, axis=1)\n",
    "\n",
    "# Añadir las nuevas predicciones al DataFrame original\n",
    "df = df_cancer.copy()\n",
    "df[\"prediction\"] = pred_label\n",
    "\n",
    "# Calcular y mostrar las métricas nuevamente con el modelo cargado\n",
    "get_metrics(df, \"target\", \"prediction\", verbose=True)\n",
    "\n",
    "print(\"Reinforcement training:\")\n",
    "env = Env(model, 200)\n",
    "q_agent = AutoQL(env, model)\n",
    "q_agent.train(X_train, y_train)"
   ]
  },
  {
   "cell_type": "code",
   "execution_count": 3,
   "id": "0a366420",
   "metadata": {},
   "outputs": [
    {
     "name": "stdout",
     "output_type": "stream",
     "text": [
      "\u001b[1m18/18\u001b[0m \u001b[32m━━━━━━━━━━━━━━━━━━━━\u001b[0m\u001b[37m\u001b[0m \u001b[1m0s\u001b[0m 3ms/step \n",
      "Predictions after reinforcement learning:\n",
      "Accuracy: 87.35%\n",
      "Precision: 83.85%\n",
      "Recall: 98.88%\n",
      "F1-Score: 90.75\n",
      "Cohen's Kappa: 0.7117\n"
     ]
    }
   ],
   "source": [
    "q_model = q_agent.model\n",
    "# Hacer predicciones nuevamente con el modelo cargado\n",
    "pred = q_model.predict(X)\n",
    "\n",
    "# Obtener las etiquetas predichas para las nuevas predicciones\n",
    "print(\"Predictions after reinforcement learning:\")\n",
    "pred_label = np.argmax(pred, axis=1)\n",
    "\n",
    "# Añadir las nuevas predicciones al DataFrame original\n",
    "df = df_cancer.copy()\n",
    "df[\"prediction\"] = pred_label\n",
    "\n",
    "# Calcular y mostrar las métricas nuevamente con el modelo cargado\n",
    "get_metrics(df, \"target\", \"prediction\", verbose=True)"
   ]
  },
  {
   "cell_type": "code",
   "execution_count": null,
   "id": "62806b3e",
   "metadata": {},
   "outputs": [],
   "source": []
  }
 ],
 "metadata": {
  "kernelspec": {
   "display_name": "Python 3",
   "language": "python",
   "name": "python3"
  },
  "language_info": {
   "codemirror_mode": {
    "name": "ipython",
    "version": 3
   },
   "file_extension": ".py",
   "mimetype": "text/x-python",
   "name": "python",
   "nbconvert_exporter": "python",
   "pygments_lexer": "ipython3",
   "version": "3.12.1"
  }
 },
 "nbformat": 4,
 "nbformat_minor": 5
}
